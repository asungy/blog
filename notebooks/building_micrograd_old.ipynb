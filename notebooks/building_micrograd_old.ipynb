{
 "cells": [
  {
   "cell_type": "markdown",
   "id": "e7235a42-49b0-432f-a94b-3fa155b86e4a",
   "metadata": {},
   "source": [
    "# Building Micrograd\n",
    "\n",
    "**Link**: https://www.youtube.com/watch?v=VMj-3S1tku0"
   ]
  },
  {
   "cell_type": "code",
   "execution_count": null,
   "id": "e8d8ea47-2665-4cce-9dd7-7ae9a504bbf5",
   "metadata": {},
   "outputs": [],
   "source": [
    "import math\n",
    "import numpy as np\n",
    "import matplotlib.pyplot as plt\n",
    "import json\n",
    "from enum import Enum\n",
    "from graphviz import Digraph\n",
    "from collections import deque\n",
    "%matplotlib inline"
   ]
  },
  {
   "cell_type": "markdown",
   "id": "8fa5d7c8-97ed-431b-bb3c-dfd2c5e90c70",
   "metadata": {},
   "source": [
    "# Derivatives"
   ]
  },
  {
   "cell_type": "markdown",
   "id": "263ddc77-70b3-4d2e-9161-f556594cc234",
   "metadata": {},
   "source": [
    "## Simple example\n",
    "Consider the following function:\n",
    "$$f(x) = 3x^2 - 4x + 5 \\hspace{15cm}$$\n",
    "\n",
    "We can plot it like so:"
   ]
  },
  {
   "cell_type": "code",
   "execution_count": null,
   "id": "e85a8a99-f6f7-4aa8-8b13-c3cf36fdd2b9",
   "metadata": {},
   "outputs": [],
   "source": [
    "def f(x):\n",
    "    return 3*x**2 - 4*x + 5\n",
    "\n",
    "xs = np.arange(-5, 5, 0.25)\n",
    "ys = f(xs)\n",
    "plt.plot(xs, ys)"
   ]
  },
  {
   "cell_type": "markdown",
   "id": "4a9e1064-c379-4024-8c0d-6b391cf22790",
   "metadata": {},
   "source": [
    "Recall the definition of the derivative:\n",
    "$$f'(x) = \\lim_{h \\to 0} \\frac{f(x+h)-f(x)}{h} \\hspace{15cm}$$\n",
    "\n",
    "So if we wanted to find the (approximate) derivative at any point along the function, we could just use the definition of the derivative like so:"
   ]
  },
  {
   "cell_type": "code",
   "execution_count": null,
   "id": "1ae21738-5dc3-4386-94e9-269932325d70",
   "metadata": {},
   "outputs": [],
   "source": [
    "h = 0.000001 # Small h value as a substitute for h -> 0\n",
    "x = 3.0\n",
    "(f(x + h) - f(x)) / h"
   ]
  },
  {
   "cell_type": "markdown",
   "id": "c1a805d1-02e2-4771-b303-4630e6c314b4",
   "metadata": {},
   "source": [
    "Again, this is an approximation, but we can check our work by taking the finding the derivative of `f` and plugging in `x` like we would have done in our high school calculus classes:\n",
    "\n",
    "$$\n",
    "\\begin{aligned}\n",
    "f(x) &= 3x^2 - 4x + 5 \\hspace{15cm} \\\\\n",
    "f'(x) &= 6x - 4 \\\\\n",
    "f'(3.0) &= 6(3.0) - 4 \\\\\n",
    "f'(3.0) &= 14.0\n",
    "\\end{aligned}\n",
    "$$"
   ]
  },
  {
   "cell_type": "markdown",
   "id": "83a25840-1657-4e27-be57-59cb222323cd",
   "metadata": {},
   "source": [
    "## Partial derivatives\n",
    "Now let's consider the following equation:\n",
    "$$\n",
    "\\begin{aligned}\n",
    "y &= ab + c, \\text{ where } \\hspace{15cm} \\\\\n",
    "a&=2.0, b=-3.0,c=10.0\n",
    "\\end{aligned}\n",
    "$$\n",
    "\n",
    "We want to know how $y$ changes with any change to the variables $a$, $b$, and $c$.\n",
    "\n",
    "Let's start with $a$:"
   ]
  },
  {
   "cell_type": "code",
   "execution_count": null,
   "id": "06b20004-d7f5-4f22-a1b8-166115088926",
   "metadata": {},
   "outputs": [],
   "source": [
    "a, b, c = 2.0, -3.0, 10.0\n",
    "y = a * b + c\n",
    "# Let's nudge a by a small amount h and see how that changes the output.\n",
    "h = 0.000001\n",
    "y_a = (a + h) * b + c\n",
    "print(f\"Slope of a: {(y_a - y)/h}\")"
   ]
  },
  {
   "cell_type": "markdown",
   "id": "8499abe2-ec25-4f3f-932e-60fe06bfb3b9",
   "metadata": {},
   "source": [
    "So this is saying: if we increase the $a$, then $y_1$ will _decrease_ by a factor of $3$.\n",
    "\n",
    "Let's continue for $b$ and $c$:"
   ]
  },
  {
   "cell_type": "code",
   "execution_count": null,
   "id": "fbccceb6-4b8b-4092-93c6-0318f5822477",
   "metadata": {},
   "outputs": [],
   "source": [
    "y_b = a * (b + h) + c\n",
    "print(f\"Slope of b: {(y_b - y)/h}\")\n",
    "y_c = a * b + (c + h)\n",
    "print(f\"Slope of c: {(y_c - y)/h}\")"
   ]
  },
  {
   "cell_type": "markdown",
   "id": "300f5395-731f-4d7e-aeb1-d89fc6e7e360",
   "metadata": {},
   "source": [
    "## Implementing the `Value` class"
   ]
  },
  {
   "cell_type": "markdown",
   "id": "f42458ec-9f83-4a59-894c-6d025a59fd93",
   "metadata": {},
   "source": [
    "We want to implement our own concept of a \"value\" in a neural network so that we have control over how it operates. Let's start simple and have this class just store a value and be able to print a string representation of this value:"
   ]
  },
  {
   "cell_type": "code",
   "execution_count": null,
   "id": "f7838b4e-0d0c-484d-8810-9f544fa8de73",
   "metadata": {},
   "outputs": [],
   "source": [
    "class Value:\n",
    "    def __init__(self, value):\n",
    "        self.value = value\n",
    "\n",
    "    def __repr__(self):\n",
    "        s = json.dumps({\n",
    "            \"value\": self.value   \n",
    "        }, indent=2)\n",
    "        return f\"Value: {s}\""
   ]
  },
  {
   "cell_type": "code",
   "execution_count": null,
   "id": "96614958-75bd-4bac-973a-de7bd9b618fe",
   "metadata": {},
   "outputs": [],
   "source": [
    "a = Value(3.14)\n",
    "print(a)"
   ]
  },
  {
   "cell_type": "markdown",
   "id": "51e0d5ba-928f-484c-85cc-d9d55dfb6524",
   "metadata": {},
   "source": [
    "We want to be able to perform operations on our `Value` class. Let's implement the addition, subtraction, multiplication, and division magic methods for this class:"
   ]
  },
  {
   "cell_type": "code",
   "execution_count": null,
   "id": "b7b4e8fe-6125-4855-9f0b-dc20fb69b497",
   "metadata": {},
   "outputs": [],
   "source": [
    "class Value:\n",
    "    def __init__(self, value):\n",
    "        self.value = value\n",
    "\n",
    "    def __add__(self, other):\n",
    "        return Value(self.value + other.value)\n",
    "\n",
    "    def __sub__(self, other):\n",
    "        return Value(self.value - other.value)\n",
    "\n",
    "    def __mul__(self, other):\n",
    "        return Value(self.value * other.value)\n",
    "\n",
    "    def __truediv__(self, other):\n",
    "        return Value(self.value / other.value)\n",
    "    \n",
    "    def __repr__(self):\n",
    "        s = json.dumps({\n",
    "            \"value\": self.value   \n",
    "        }, indent=2)\n",
    "        return f\"Value: {s}\""
   ]
  },
  {
   "cell_type": "code",
   "execution_count": null,
   "id": "e9a808e1-794c-4ab5-aea8-df43b27bf239",
   "metadata": {},
   "outputs": [],
   "source": [
    "a = Value(2.5)\n",
    "b = Value(7.0)\n",
    "print(a + b)\n",
    "print(a - b)\n",
    "print(a * b)\n",
    "print(a / b)"
   ]
  },
  {
   "cell_type": "markdown",
   "id": "be985459-6ffe-4691-b7b9-e652d7272102",
   "metadata": {},
   "source": [
    "> In this notebook, we're going to introduce a concept that will probably be used in the rest of these notes called AAMO (Accept And Move On). It's an amazing learning tool that will save you many hours and much heartache (take it from my experience)."
   ]
  },
  {
   "cell_type": "markdown",
   "id": "020ef58c-006b-4a78-b317-3aec491e7e43",
   "metadata": {},
   "source": [
    "## Children and Operator member variables (AAMO)\n",
    "\n",
    "We now need our `Value` class to maintain some kind of \"memory\" of how it was created. Firstly, we need to know what values were involved in creating any given value as well as the operation. If you are familiar in with the concept of backpropagation, you may see why this is necessary. If not, that's okay.\n",
    "\n",
    "Let's say I have the following equation:\n",
    "$$ 1 + 2 = 3 $$\n",
    "\n",
    "This can be modeled with our `Value` class like so:\n",
    "```python\n",
    "Value(1) + Value(2) => Value(3)\n",
    "```\n",
    "\n",
    "Let's say we take our `Value(3)` and do whatever we like. But let's consider that sometime later we want to refer back to `Value(1)` and `Value(2)` and recall that these `Value` objects were added to create `Value(3)`. A solution to this problem might look like this:"
   ]
  },
  {
   "cell_type": "code",
   "execution_count": null,
   "id": "9d93485e-2099-45ed-9213-cad43f1ed423",
   "metadata": {},
   "outputs": [],
   "source": [
    "class Op(Enum):\n",
    "    NONE = 0\n",
    "    ADD = 1\n",
    "    SUB = 2\n",
    "    MUL = 3\n",
    "    DIV = 4\n",
    "\n",
    "    def __str__(self):\n",
    "        match self:\n",
    "            case Op.NONE:\n",
    "                return \"none\"\n",
    "            case Op.ADD:\n",
    "                return \"addition\"\n",
    "            case Op.SUB:\n",
    "                return \"subtraction\"\n",
    "            case Op.MUL:\n",
    "                return \"multiplication\"\n",
    "            case Op.DIV:\n",
    "                return \"division\"\n",
    "            case _:\n",
    "                raise ValueError(\"Unknown operation\")\n",
    "    def opstr(self):\n",
    "        match self:\n",
    "            case Op.NONE:\n",
    "                return \"\"\n",
    "            case Op.ADD:\n",
    "                return \"+\"\n",
    "            case Op.SUB:\n",
    "                return \"-\"\n",
    "            case Op.MUL:\n",
    "                return \"*\"\n",
    "            case Op.DIV:\n",
    "                return \"/\"\n",
    "            case _:\n",
    "                raise ValueError(\"Unknown operation\") "
   ]
  },
  {
   "cell_type": "code",
   "execution_count": null,
   "id": "847b0d8c-cca2-49c7-a042-d4c033c1a748",
   "metadata": {},
   "outputs": [],
   "source": [
    "class Value:\n",
    "    def __init__(self, value, children=set(), operation=Op.NONE):\n",
    "        self.value = value\n",
    "        self.children = children\n",
    "        self.operation = operation\n",
    "\n",
    "    def __add__(self, other):\n",
    "        return Value(\n",
    "            value=self.value + other.value,\n",
    "            children={self, other},\n",
    "            operation=Op.ADD,\n",
    "        )\n",
    "\n",
    "    def __sub__(self, other):        \n",
    "        return Value(\n",
    "            value=self.value - other.value,\n",
    "            children={self, other},\n",
    "            operation=Op.SUB,\n",
    "        )\n",
    "\n",
    "    def __mul__(self, other):\n",
    "        return Value(\n",
    "            value=self.value * other.value,\n",
    "            children={self, other},\n",
    "            operation=Op.MUL,\n",
    "        )\n",
    "\n",
    "    def __truediv__(self, other):\n",
    "        return Value(\n",
    "            value=self.value / other.value,\n",
    "            children={self, other},\n",
    "            operation=Op.DIV,\n",
    "        )\n",
    "\n",
    "    def __str__(self):        \n",
    "        s = json.dumps({\n",
    "            \"value\": self.value,\n",
    "            \"children\": [json.loads(str(v)) for v in self.children],\n",
    "            \"operation\": str(self.operation),\n",
    "        }, indent=2)\n",
    "        return s\n",
    "    \n",
    "    def __repr__(self):\n",
    "        return str(self)"
   ]
  },
  {
   "cell_type": "code",
   "execution_count": null,
   "id": "ba29914e-1600-4067-b462-6b5fecb05b59",
   "metadata": {},
   "outputs": [],
   "source": [
    "a = Value(2.0)\n",
    "b = Value(-3.0)\n",
    "c = Value(10.0)\n",
    "(a*b+c)"
   ]
  },
  {
   "cell_type": "markdown",
   "id": "4fda63ab-9d31-4a99-9d05-2e16c72c0036",
   "metadata": {},
   "source": [
    "## Graph visualization\n",
    "We may also want to visualize values and their operations as a graph. This can be done using the [Graphviz](https://graphviz.readthedocs.io/en/stable/manual.html) Python package:"
   ]
  },
  {
   "cell_type": "code",
   "execution_count": null,
   "id": "766cc475-fb07-4acc-b3ee-a39a2a1405f0",
   "metadata": {},
   "outputs": [],
   "source": [
    " class Value:\n",
    "    def __init__(self, value, children=set(), operation=Op.NONE, label=\"\"):\n",
    "        self.value = value\n",
    "        self.children = children\n",
    "        self.operation = operation\n",
    "        self.label = label\n",
    "\n",
    "    def __add__(self, other):\n",
    "        return Value(\n",
    "            value=self.value + other.value,\n",
    "            children={self, other},\n",
    "            operation=Op.ADD,\n",
    "        )\n",
    "\n",
    "    def __sub__(self, other):        \n",
    "        return Value(\n",
    "            value=self.value - other.value,\n",
    "            children={self, other},\n",
    "            operation=Op.SUB,\n",
    "        )\n",
    "\n",
    "    def __mul__(self, other):\n",
    "        return Value(\n",
    "            value=self.value * other.value,\n",
    "            children={self, other},\n",
    "            operation=Op.MUL,\n",
    "        )\n",
    "\n",
    "    def __truediv__(self, other):\n",
    "        return Value(\n",
    "            value=self.value / other.value,\n",
    "            children={self, other},\n",
    "            operation=Op.DIV,\n",
    "        )\n",
    "\n",
    "    def __str__(self):        \n",
    "        s = json.dumps({\n",
    "            \"value\": self.value,\n",
    "            \"children\": [json.loads(str(v)) for v in self.children],\n",
    "            \"operation\": str(self.operation),\n",
    "        }, indent=2)\n",
    "        return s\n",
    "    \n",
    "    def __repr__(self):\n",
    "        return str(self)\n",
    "\n",
    "    def render_graph(self):\n",
    "        digraph = Digraph(format=\"svg\", graph_attr={\"rankdir\": \"LR\"})\n",
    "        queue = deque([self])\n",
    "        while queue:\n",
    "            current = queue.popleft()\n",
    "            current_id = str(id(current))\n",
    "            label = \"{ %s | value: %.4f }\" % (current.label, current.value)\n",
    "            digraph.node(name=current_id, label=label, shape=\"record\")\n",
    "            if current.operation != Op.NONE:\n",
    "                op_id = current_id + str(current.operation)\n",
    "                digraph.node(\n",
    "                    name=op_id,\n",
    "                    label=current.operation.opstr(),\n",
    "                )\n",
    "                digraph.edge(op_id, current_id)\n",
    "                for child in current.children:\n",
    "                    digraph.edge(str(id(child)), op_id)\n",
    "                    queue.append(child)\n",
    "        return digraph"
   ]
  },
  {
   "cell_type": "code",
   "execution_count": null,
   "id": "33d1857b-5319-4d24-b8be-7a41ef85afdd",
   "metadata": {},
   "outputs": [],
   "source": [
    "a = Value(2.0, label=\"a\")\n",
    "b = Value(-3.0, label=\"b\")\n",
    "c = Value(10.0, label=\"c\")\n",
    "(a*b+c).render_graph()"
   ]
  },
  {
   "cell_type": "markdown",
   "id": "39ae5298-00f7-43d8-ab67-0a0b2f92f947",
   "metadata": {},
   "source": [
    "## Backpropagation\n",
    "\n",
    "Now that we have our `Value` class in a more complete state with nice graph visuals, let's start talking about backpropagation.\n",
    "\n",
    "Consider the following equation:\n",
    "$$L = a(b+cd) \\hspace{15cm}$$\n",
    "\n",
    "The goal of backpropagation is to figure out how the inputs to a mathematical function affect the output. More concretely in this example, backpropagation is asking the question: \n",
    "> If I slightly change the value of $a$, how does that affect the value of $L$? Likewise, if I change the value of $b$, how does that change the output... and so on.\n",
    "\n",
    "Because this is a simple enough of an equation, we can quickly eyeball it and do partial derivatives in our head and come up with the following:\n",
    "$$\n",
    "\\begin{aligned}\n",
    "L &= a(b+cd) = ab+acd \\hspace{15cm} \\\\\n",
    "\\\\\n",
    "\\frac{\\partial L}{\\partial a} &= b+cd \\hspace{2.5cm} \\frac{\\partial L}{\\partial b} = a \\\\\n",
    "\\\\\n",
    "\\frac{\\partial L}{\\partial c} &= ad \\hspace{2.5cm} \\frac{\\partial L}{\\partial d} = ac\n",
    "\\end{aligned}\n",
    "$$\n",
    "\n",
    "However, we need to be able to calculate these partial derivatives in a programmatic fashion. Let's explore some other strategies."
   ]
  },
  {
   "cell_type": "markdown",
   "id": "63b59d82-9f86-4fec-b382-458fa724b113",
   "metadata": {},
   "source": [
    "Let's initialize our $a$, $b$, $c$, and $d$ variables to some arbitrary values (pulling an AAMO card here):\n",
    "$$ a=-2.0, \\hspace{1.0cm} b=10.0, \\hspace{1.0cm} c=2.0, \\hspace{1.0cm} d=-3.0 \\hspace{15cm}$$\n",
    "\n",
    "We can use our `Value` class to model this equation and visualize it as a graph:"
   ]
  },
  {
   "cell_type": "code",
   "execution_count": null,
   "id": "1edcc992-48ee-4002-83bb-708a6ae5c0a6",
   "metadata": {},
   "outputs": [],
   "source": [
    "a = Value(-2.0, label=\"a\")\n",
    "b = Value(10.0, label=\"b\")\n",
    "c = Value(2.0, label=\"c\")\n",
    "d = Value(-3.0, label=\"d\")\n",
    "e = c*d; e.label = \"cd\"\n",
    "f = b+e; f.label = \"b+cd\"\n",
    "L = a*f; L.label = \"a(b+cd)\"\n",
    "L.render_graph()"
   ]
  },
  {
   "cell_type": "markdown",
   "id": "b55b66a0-852e-4218-a636-32a9f55460b1",
   "metadata": {},
   "source": [
    "Remember, the goal of backpropagation is to figure out how tweaking any of the leaf values in the graph will affect the output. For that, we will need to maintain the local gradient for each node:"
   ]
  },
  {
   "cell_type": "code",
   "execution_count": null,
   "id": "c0e445f1-decb-41e8-ab35-13f2297f7ef6",
   "metadata": {},
   "outputs": [],
   "source": [
    "class Value:\n",
    "    def __init__(self, value, children=set(), operation=Op.NONE, label=\"\", gradient=0.0):\n",
    "        self.value = value\n",
    "        self.children = children\n",
    "        self.operation = operation\n",
    "        self.label = label\n",
    "        self.gradient = gradient\n",
    "\n",
    "    def __add__(self, other):\n",
    "        return Value(\n",
    "            value=self.value + other.value,\n",
    "            children={self, other},\n",
    "            operation=Op.ADD,\n",
    "        )\n",
    "\n",
    "    def __sub__(self, other):        \n",
    "        return Value(\n",
    "            value=self.value - other.value,\n",
    "            children={self, other},\n",
    "            operation=Op.SUB,\n",
    "        )\n",
    "\n",
    "    def __mul__(self, other):\n",
    "        return Value(\n",
    "            value=self.value * other.value,\n",
    "            children={self, other},\n",
    "            operation=Op.MUL,\n",
    "        )\n",
    "\n",
    "    def __truediv__(self, other):\n",
    "        return Value(\n",
    "            value=self.value / other.value,\n",
    "            children={self, other},\n",
    "            operation=Op.DIV,\n",
    "        )\n",
    "\n",
    "    def __str__(self):        \n",
    "        s = json.dumps({\n",
    "            \"value\": self.value,\n",
    "            \"children\": [json.loads(str(v)) for v in self.children],\n",
    "            \"operation\": str(self.operation),\n",
    "        }, indent=2)\n",
    "        return s\n",
    "    \n",
    "    def __repr__(self):\n",
    "        return str(self)\n",
    "\n",
    "    def render_graph(self):\n",
    "        digraph = Digraph(format=\"svg\", graph_attr={\"rankdir\": \"LR\"})\n",
    "        queue = deque([self])\n",
    "        while queue:\n",
    "            current = queue.popleft()\n",
    "            current_id = str(id(current))\n",
    "            label = \"%s | value: %.4f | gradient: %.4f\" % (current.label, current.value, current.gradient)\n",
    "            digraph.node(name=current_id, label=label, shape=\"record\")\n",
    "            if current.operation != Op.NONE:\n",
    "                op_id = current_id + str(current.operation)\n",
    "                digraph.node(\n",
    "                    name=op_id,\n",
    "                    label=current.operation.opstr(),\n",
    "                )\n",
    "                digraph.edge(op_id, current_id)\n",
    "                for child in current.children:\n",
    "                    digraph.edge(str(id(child)), op_id)\n",
    "                    queue.append(child)\n",
    "        return digraph"
   ]
  },
  {
   "cell_type": "code",
   "execution_count": null,
   "id": "44ae4cec-08e4-4582-85cb-b287b1c40674",
   "metadata": {},
   "outputs": [],
   "source": [
    "a = Value(-2.0, label=\"a\")\n",
    "b = Value(10.0, label=\"b\")\n",
    "c = Value(2.0, label=\"c\")\n",
    "d = Value(-3.0, label=\"d\")\n",
    "e = c*d; e.label = \"cd\"\n",
    "f = b+e; f.label = \"b+cd\"\n",
    "L = a*f; L.label = \"a(b+cd)\"\n",
    "L.render_graph()"
   ]
  },
  {
   "cell_type": "markdown",
   "id": "9a8866d3-e1fa-4761-8e60-3988f4138309",
   "metadata": {},
   "source": [
    "For now, we will leave all of the gradients initialized to $0$. We're going to now manually calculate the gradient for each node. We first start with the easy one:\n",
    "$$\\frac{\\partial (a(b+cd))}{\\partial (a(b+cd))} = 1$$\n"
   ]
  },
  {
   "cell_type": "code",
   "execution_count": null,
   "id": "a535b634-4261-457c-aaf0-641bac496621",
   "metadata": {},
   "outputs": [],
   "source": [
    "Value(-8.0, label=\"a(b+cd)\", gradient=1.0).render_graph()"
   ]
  },
  {
   "cell_type": "markdown",
   "id": "11253050-4c12-4e2f-bd83-49bf26bb2ee8",
   "metadata": {},
   "source": [
    "Next, let's do $b+cd$. What happens when we apply the definition of the derivative to $a(b+cd)$ with respect to $b+cd$?\n",
    "\n",
    "> I will admit that the following notation will look a bit strange, but this is to stay consistent with the naming convention I have already provided the nodes and it avoids having to do some mental gymnastics were we to assign these expressions with variable names for a shorthand.\n",
    "\n",
    "$$\n",
    "\\begin{aligned}\n",
    "\\frac{\\partial (a(b+cd))}{\\partial (b+cd)} &= \\lim_{h \\to 0} \\frac{(a((b+cd)+h))-(a(b+cd))}{h} \\hspace{15cm} \\\\\n",
    "&= \\lim_{h \\to 0} \\frac{\\bcancel{ab}+\\bcancel{acd}+ah-\\bcancel{ab}+\\bcancel{acd}}{h} = \\lim_{h \\to 0} \\frac{a\\bcancel{h}}{\\bcancel{h}} = a\n",
    "\\end{aligned}\n",
    "$$\n",
    "\n",
    "This tells us that if we change the node $b+cd$, it changes by a factor of the value of $a$:"
   ]
  },
  {
   "cell_type": "code",
   "execution_count": null,
   "id": "9c8634f4-d8e8-4f3c-ace9-d6035de267dd",
   "metadata": {},
   "outputs": [],
   "source": [
    "abcd = (Value(4, label=\"b+cd\", gradient=-2) * Value(-2, label=\"a\")); abcd.label = \"a(b+cd)\"\n",
    "abcd.render_graph()"
   ]
  },
  {
   "cell_type": "markdown",
   "id": "f029a437-b6c2-40ce-8c9d-c4f86fdb38e2",
   "metadata": {},
   "source": [
    "Left off: https://youtu.be/VMj-3S1tku0?si=ywv123D7meO3Y8vd&t=3172"
   ]
  }
 ],
 "metadata": {
  "kernelspec": {
   "display_name": "Python 3 (ipykernel)",
   "language": "python",
   "name": "python3"
  },
  "language_info": {
   "codemirror_mode": {
    "name": "ipython",
    "version": 3
   },
   "file_extension": ".py",
   "mimetype": "text/x-python",
   "name": "python",
   "nbconvert_exporter": "python",
   "pygments_lexer": "ipython3",
   "version": "3.12.9"
  }
 },
 "nbformat": 4,
 "nbformat_minor": 5
}
