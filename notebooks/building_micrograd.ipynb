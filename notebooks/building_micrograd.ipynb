{
 "cells": [
  {
   "cell_type": "markdown",
   "id": "92df7ef6-e7d8-464d-8701-4c6dc0dacd8c",
   "metadata": {},
   "source": [
    "# Building Micrograd"
   ]
  },
  {
   "cell_type": "code",
   "execution_count": 3,
   "id": "33827af8-a74a-4f4f-9e23-966edec4de1f",
   "metadata": {},
   "outputs": [],
   "source": [
    "from collections import deque\n",
    "from enum import Enum\n",
    "from graphviz import Digraph\n",
    "import json\n",
    "import math\n",
    "import matplotlib.pyplot as plt\n",
    "import numpy as np\n",
    "%matplotlib inline"
   ]
  }
 ],
 "metadata": {
  "kernelspec": {
   "display_name": "Python 3 (ipykernel)",
   "language": "python",
   "name": "python3"
  },
  "language_info": {
   "codemirror_mode": {
    "name": "ipython",
    "version": 3
   },
   "file_extension": ".py",
   "mimetype": "text/x-python",
   "name": "python",
   "nbconvert_exporter": "python",
   "pygments_lexer": "ipython3",
   "version": "3.12.9"
  }
 },
 "nbformat": 4,
 "nbformat_minor": 5
}
